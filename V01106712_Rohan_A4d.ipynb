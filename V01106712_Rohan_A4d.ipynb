{
 "cells": [
  {
   "cell_type": "code",
   "execution_count": 46,
   "id": "0980cd85-ef08-4803-a47f-c4236040b286",
   "metadata": {},
   "outputs": [
    {
     "name": "stdout",
     "output_type": "stream",
     "text": [
      "First few rows of the data:\n",
      "       brand  price weight  crust      cheese     size  toppings   spicy  \\\n",
      "0    Dominos  $1.00   100g   thin  Mozzarella  regular    paneer  normal   \n",
      "1  Pizza hut  $3.00   100g   thin     Cheddar    large  mushroom  normal   \n",
      "2     Onesta  $4.00   200g   thin  Mozzarella  regular  mushroom  normal   \n",
      "3  Pizza hut  $4.00   400g  thick     Cheddar  regular    paneer  normal   \n",
      "4  Pizza hut  $2.00   300g   thin  Mozzarella  regular  mushroom   extra   \n",
      "\n",
      "   ranking  \n",
      "0       11  \n",
      "1       12  \n",
      "2        9  \n",
      "3        2  \n",
      "4        8  \n",
      "\n",
      "Column names in the dataset:\n",
      "['brand', 'price', 'weight', 'crust', 'cheese', 'size', 'toppings', 'spicy', 'ranking']\n",
      "Column error: \"None of [Index(['your_attribute1', 'your_attribute2', 'your_attribute3'], dtype='object')] are in the [columns]\"\n"
     ]
    }
   ],
   "source": [
    "import pandas as pd\n",
    "from sklearn.linear_model import LinearRegression\n",
    "\n",
    "# Correct file path (adjust this path as needed)\n",
    "file_path = r'C:\\Users\\HP\\Downloads\\pizza_data (1).csv'\n",
    "\n",
    "try:\n",
    "    # Load the data\n",
    "    data = pd.read_csv(file_path)\n",
    "    \n",
    "    # Display the first few rows and column names of the data\n",
    "    print(\"First few rows of the data:\")\n",
    "    print(data.head())\n",
    "    print(\"\\nColumn names in the dataset:\")\n",
    "    print(data.columns.tolist())  # List out all column names\n",
    "    \n",
    "    # Replace the column names below with the actual column names from the output above\n",
    "    attribute_columns = ['your_attribute1', 'your_attribute2', 'your_attribute3']  # Replace with actual attributes\n",
    "    target_column = 'your_rating_column'  # Replace with actual target column name\n",
    "    \n",
    "    # One-hot encode categorical variables\n",
    "    data_encoded = pd.get_dummies(data, columns=attribute_columns, drop_first=True)\n",
    "    \n",
    "    # Separate features (X) and target (y)\n",
    "    X = data_encoded.drop(columns=[target_column])\n",
    "    y = data_encoded[target_column]\n",
    "    \n",
    "    # Fit the linear regression model\n",
    "    model = LinearRegression()\n",
    "    model.fit(X, y)\n",
    "    \n",
    "    # Get the part-worths (coefficients)\n",
    "    part_worths = model.coef_\n",
    "    \n",
    "    # Print part-worths for each feature\n",
    "    print(\"\\nPart-worths (coefficients) for each attribute level:\")\n",
    "    for feature, coef in zip(X.columns, part_worths):\n",
    "        print(f\"Attribute: {feature}, Part-worth: {coef}\")\n",
    "    \n",
    "    # Calculate the range of part-worths for each attribute to determine importance\n",
    "    attribute_importance = {}\n",
    "    for attribute in attribute_columns:\n",
    "        cols = [col for col in X.columns if col.startswith(attribute)]\n",
    "        range_pw = max(part_worths[[X.columns.get_loc(c) for c in cols]]) - min(part_worths[[X.columns.get_loc(c) for c in cols]])\n",
    "        attribute_importance[attribute] = range_pw\n",
    "\n",
    "    # Normalize the importance scores\n",
    "    total_importance = sum(attribute_importance.values())\n",
    "    normalized_importance = {k: (v / total_importance) * 100 for k, v in attribute_importance.items()}\n",
    "    \n",
    "    # Print attribute importance\n",
    "    print(\"\\nAttribute Importance:\")\n",
    "    for attribute, importance in normalized_importance.items():\n",
    "        print(f\"{attribute}: {importance:.2f}%\")\n",
    "\n",
    "except FileNotFoundError:\n",
    "    print(\"The specified file was not found. Please check the file path and try again.\")\n",
    "except KeyError as e:\n",
    "    print(f\"Column error: {e}\")\n",
    "except Exception as e:\n",
    "    print(f\"An unexpected error occurred: {e}\")\n"
   ]
  },
  {
   "cell_type": "code",
   "execution_count": null,
   "id": "22f44f9e-3733-47dc-9881-c671ddf3bc92",
   "metadata": {},
   "outputs": [],
   "source": []
  }
 ],
 "metadata": {
  "kernelspec": {
   "display_name": "Python 3 (ipykernel)",
   "language": "python",
   "name": "python3"
  },
  "language_info": {
   "codemirror_mode": {
    "name": "ipython",
    "version": 3
   },
   "file_extension": ".py",
   "mimetype": "text/x-python",
   "name": "python",
   "nbconvert_exporter": "python",
   "pygments_lexer": "ipython3",
   "version": "3.11.7"
  }
 },
 "nbformat": 4,
 "nbformat_minor": 5
}
